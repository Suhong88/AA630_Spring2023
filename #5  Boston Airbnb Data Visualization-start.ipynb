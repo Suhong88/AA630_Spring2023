{
 "cells": [
  {
   "cell_type": "markdown",
   "id": "12cd2ff6",
   "metadata": {},
   "source": [
    "# Boston Airbnb Open Data\n",
    "\n",
    "This data set was obtained from [Kaggle](https://www.kaggle.com/datasets/airbnb/boston).\n",
    "\n",
    "this dataset describes the listing activity of homestays in Boston, MA.\n",
    "\n",
    "The following Airbnb activity is included in this Boston dataset:\n",
    "\n",
    " - Listings, including full descriptions and average review score\n",
    " - Reviews, including unique id for each reviewer and detailed comments\n",
    " - Calendar, including listing id and the price and availability for that day"
   ]
  },
  {
   "cell_type": "markdown",
   "id": "a300641e",
   "metadata": {},
   "source": [
    "# Boston Airbnb Data Visualization"
   ]
  },
  {
   "cell_type": "markdown",
   "id": "c11769e3",
   "metadata": {},
   "source": [
    "## Import Functions and load data"
   ]
  },
  {
   "cell_type": "markdown",
   "id": "bd2de0ee",
   "metadata": {},
   "source": [
    "### Import cleaned listing data"
   ]
  },
  {
   "cell_type": "code",
   "execution_count": null,
   "id": "b7fed983",
   "metadata": {},
   "outputs": [],
   "source": [
    "import matplotlib.pyplot as plt\n",
    "import seaborn as sns\n",
    "import numpy as np\n",
    "import pandas as pd\n",
    "\n",
    "# change default figure size to (10,5)\n",
    "\n",
    "#plt.rc('figure', figsize=(10,5))\n",
    "\n",
    "# reset the default\n",
    "\n",
    "plt.rcdefaults()"
   ]
  },
  {
   "cell_type": "code",
   "execution_count": null,
   "id": "46091d91",
   "metadata": {
    "scrolled": true
   },
   "outputs": [],
   "source": [
    "# import listing data\n",
    "\n",
    "#listing=pd.read_csv('airbnb_boston/listings_cleaned.csv')\n",
    "\n",
    "listing=pd.read_csv('https://raw.githubusercontent.com/Suhong88/AA630_Spring2023/main/listings_cleaned.csv')\n",
    "\n",
    "# import review data\n",
    "\n",
    "reviews=pd.read_csv('https://raw.githubusercontent.com/Suhong88/AA630_Spring2023/main/airbnb_boston/reviews.csv')\n",
    "\n",
    "# covert listing_id from int to object\n",
    "\n",
    "reviews['listing_id']=reviews['listing_id'].astype('object')\n",
    "\n",
    "# covert date from object to date\n",
    "\n",
    "reviews['date']=pd.to_datetime(reviews.date)\n",
    "\n",
    "## drop id from reviews table\n",
    "\n",
    "reviews1=reviews.drop(['id'], axis=1)\n",
    "\n",
    "# join listing and review tabel\n",
    "\n",
    "df=listing.merge(reviews1, left_on='id', right_on='listing_id', how='inner')\n",
    "\n",
    "df.head()"
   ]
  },
  {
   "cell_type": "markdown",
   "id": "059f789f",
   "metadata": {},
   "source": [
    "# Matplotlib basics"
   ]
  },
  {
   "cell_type": "markdown",
   "id": "63302202",
   "metadata": {},
   "source": [
    "## line plot"
   ]
  },
  {
   "cell_type": "code",
   "execution_count": null,
   "id": "41ce790f",
   "metadata": {
    "scrolled": true
   },
   "outputs": [],
   "source": [
    "# display/visualize the number of reviews by date\n",
    "\n",
    "result=df.groupby('date')['listing_id'].count().reset_index().rename(columns={'listing_id': 'numListings'})\n",
    "\n",
    "#set figure size\n",
    "\n",
    "\n",
    "# change the stype of figure\n",
    "\n"
   ]
  },
  {
   "cell_type": "markdown",
   "id": "b586ad50",
   "metadata": {},
   "source": [
    "## Histogram"
   ]
  },
  {
   "cell_type": "code",
   "execution_count": null,
   "id": "1b78852c",
   "metadata": {
    "scrolled": false
   },
   "outputs": [],
   "source": [
    "#shows the histogram of price\n",
    "\n"
   ]
  },
  {
   "cell_type": "code",
   "execution_count": null,
   "id": "7de37949",
   "metadata": {
    "scrolled": false
   },
   "outputs": [],
   "source": [
    "# limit to price below 500, use different number of bins\n",
    "\n",
    "\n",
    "\n",
    "# save figure\n",
    "\n"
   ]
  },
  {
   "cell_type": "markdown",
   "id": "1a7bddbd",
   "metadata": {},
   "source": [
    "# Ploting with Pandas"
   ]
  },
  {
   "cell_type": "markdown",
   "id": "8fad42e1",
   "metadata": {},
   "source": [
    "## line plot"
   ]
  },
  {
   "cell_type": "code",
   "execution_count": null,
   "id": "79ef858f",
   "metadata": {},
   "outputs": [],
   "source": [
    "# number of reviews by date\n",
    "result=df.groupby('date')['listing_id'].count()\n",
    "\n",
    "\n"
   ]
  },
  {
   "cell_type": "code",
   "execution_count": null,
   "id": "6d812ea4",
   "metadata": {
    "scrolled": true
   },
   "outputs": [],
   "source": [
    "# show average price, max price and min price by day\n",
    "\n",
    "result=df.groupby('date')['price'].agg(['mean', 'max', 'min'])\n",
    "\n",
    "result"
   ]
  },
  {
   "cell_type": "code",
   "execution_count": null,
   "id": "886e72e3",
   "metadata": {
    "scrolled": true
   },
   "outputs": [],
   "source": [
    "# visualize average price by date\n",
    "\n"
   ]
  },
  {
   "cell_type": "code",
   "execution_count": null,
   "id": "1d19e4a4",
   "metadata": {
    "scrolled": false
   },
   "outputs": [],
   "source": [
    "# visualize average, max, min price by date\n",
    "\n"
   ]
  },
  {
   "cell_type": "code",
   "execution_count": null,
   "id": "c1b96ce0",
   "metadata": {},
   "outputs": [],
   "source": [
    "# visualize each graph as a subplot\n",
    "\n"
   ]
  },
  {
   "cell_type": "code",
   "execution_count": null,
   "id": "45fc4c00",
   "metadata": {
    "scrolled": false
   },
   "outputs": [],
   "source": [
    "# visualize average, max, min price by date for a particular year\n",
    "\n"
   ]
  },
  {
   "cell_type": "markdown",
   "id": "ccb3ac4d",
   "metadata": {},
   "source": [
    "## scatter plot"
   ]
  },
  {
   "cell_type": "code",
   "execution_count": null,
   "id": "6142a776",
   "metadata": {
    "scrolled": true
   },
   "outputs": [],
   "source": [
    "# we want to see whether review score rating is related to price\n",
    "# create a scatter plot between airbnb review scores and price\n",
    "\n"
   ]
  },
  {
   "cell_type": "code",
   "execution_count": null,
   "id": "3302cd6f",
   "metadata": {
    "scrolled": true
   },
   "outputs": [],
   "source": [
    "# change y(price) to log\n",
    "\n"
   ]
  },
  {
   "cell_type": "code",
   "execution_count": null,
   "id": "78e76da1",
   "metadata": {
    "scrolled": true
   },
   "outputs": [],
   "source": [
    "# use alpha to control the transparency of the points\n",
    "\n"
   ]
  },
  {
   "cell_type": "code",
   "execution_count": null,
   "id": "9d73ebee",
   "metadata": {
    "scrolled": false
   },
   "outputs": [],
   "source": [
    "# use hexbins\n",
    "\n"
   ]
  },
  {
   "cell_type": "code",
   "execution_count": null,
   "id": "480ddeb1",
   "metadata": {},
   "outputs": [],
   "source": [
    "# use hexbins\n",
    "\n"
   ]
  },
  {
   "cell_type": "code",
   "execution_count": null,
   "id": "b4f58c53",
   "metadata": {},
   "outputs": [],
   "source": [
    "# set the limit for x label and y label\n",
    "\n",
    "df1=df.rename(columns={'review_scores_rating': 'Review Scores Rating'})\n",
    "\n"
   ]
  },
  {
   "cell_type": "markdown",
   "id": "49a01e05",
   "metadata": {},
   "source": [
    "## Pandas Plot- Distribution"
   ]
  },
  {
   "cell_type": "code",
   "execution_count": null,
   "id": "b4da8125",
   "metadata": {
    "scrolled": true
   },
   "outputs": [],
   "source": [
    "# histogram\n",
    "# visualize histogram of price\n",
    "\n"
   ]
  },
  {
   "cell_type": "code",
   "execution_count": null,
   "id": "434ca209",
   "metadata": {
    "scrolled": true
   },
   "outputs": [],
   "source": [
    "# Kernal Density Estimates (KDE)\n",
    "# visualize KDE of price\n",
    "\n"
   ]
  },
  {
   "cell_type": "code",
   "execution_count": null,
   "id": "27a3ef9f",
   "metadata": {
    "scrolled": false
   },
   "outputs": [],
   "source": [
    "# combine histogram and kde\n",
    "\n"
   ]
  },
  {
   "cell_type": "markdown",
   "id": "724de42e",
   "metadata": {},
   "source": [
    "## Pandas Plot - Boxplot"
   ]
  },
  {
   "cell_type": "code",
   "execution_count": null,
   "id": "3e797319",
   "metadata": {
    "scrolled": true
   },
   "outputs": [],
   "source": [
    "# show box plot for all review scores.\n",
    "\n",
    "result=df.loc[:, ['review_scores_accuracy', 'review_scores_cleanliness',\n",
    "       'review_scores_checkin', 'review_scores_communication',\n",
    "       'review_scores_location', 'review_scores_value']]\n",
    "\n"
   ]
  },
  {
   "cell_type": "code",
   "execution_count": null,
   "id": "c876451f",
   "metadata": {
    "scrolled": true
   },
   "outputs": [],
   "source": [
    "# calssify price into four level\n",
    "\n",
    "df['price_level']=pd.cut(df.price, bins=[0, 100, 200, 300, 1000], labels=['low (0-100)', 'medium (100-200)', 'high(200-300)', 'very high(>300)'])\n",
    "df['price_level'].value_counts()"
   ]
  },
  {
   "cell_type": "code",
   "execution_count": null,
   "id": "9160a9a2",
   "metadata": {
    "scrolled": false
   },
   "outputs": [],
   "source": [
    "# for each price level, show  box plot for all review scores.\n",
    "\n",
    "result=df.loc[:, ['price_level', 'review_scores_accuracy', 'review_scores_cleanliness',\n",
    "       'review_scores_checkin', 'review_scores_communication',\n",
    "       'review_scores_location', 'review_scores_value']].groupby('price_level').boxplot(??\n",
    ")\n"
   ]
  },
  {
   "cell_type": "markdown",
   "id": "0b159969",
   "metadata": {},
   "source": [
    "## Pandas Plot- Barplot"
   ]
  },
  {
   "cell_type": "code",
   "execution_count": null,
   "id": "447c89ff",
   "metadata": {
    "scrolled": true
   },
   "outputs": [],
   "source": [
    "# visualize top 10 neighbourhood by number of listings\n",
    "\n",
    "result=listing['neighbourhood'].value_counts().head(10)\n",
    "\n"
   ]
  },
  {
   "cell_type": "code",
   "execution_count": null,
   "id": "3c7771b8",
   "metadata": {},
   "outputs": [],
   "source": [
    "from matplotlib import cm\n",
    "cm.datad.keys()"
   ]
  },
  {
   "cell_type": "code",
   "execution_count": null,
   "id": "dfd5433c",
   "metadata": {},
   "outputs": [],
   "source": [
    "# change bar color for top 10 neighbourhood by number of listings\n",
    "\n",
    "result=listing['neighbourhood'].value_counts().head(10)\n",
    "\n"
   ]
  },
  {
   "cell_type": "code",
   "execution_count": null,
   "id": "8e30f52e",
   "metadata": {
    "scrolled": true
   },
   "outputs": [],
   "source": [
    "# display/visualize number of listings by neighbourhood and by room type. Limit to top 5 neighbourhood\n",
    "\n",
    "top5=listing['neighbourhood'].value_counts().head(5).index\n",
    "\n",
    "# need to use unstack() to change neighbourhood and room_type to row/column dimension\n",
    "\n",
    "result=listing[listing['neighbourhood'].isin(top5)].groupby(['neighbourhood', 'room_type'])['id'].\\\n",
    "count().unstack()\n",
    "\n"
   ]
  },
  {
   "cell_type": "code",
   "execution_count": null,
   "id": "9f9fc427",
   "metadata": {
    "scrolled": true
   },
   "outputs": [],
   "source": [
    "# display/visualize number of listings by neighbourhood and by room type. Limit to top 5 neighbourhood\n",
    "# change the location of the label\n",
    "\n",
    "top5=listing['neighbourhood'].value_counts().head(5).index\n",
    "\n",
    "# need to use unstack() to change neighbourhood and room_type to row/column dimension\n",
    "\n",
    "result=listing[listing['neighbourhood'].isin(top5)].groupby(['neighbourhood', 'room_type'])['id'].\\\n",
    "count().unstack()\n",
    "\n"
   ]
  },
  {
   "cell_type": "code",
   "execution_count": null,
   "id": "62082bbc",
   "metadata": {
    "scrolled": false
   },
   "outputs": [],
   "source": [
    "# Number of listings by neighbourhood and by room type. Limit to top 5 neighbourhood\n",
    "# use stacked bar chart\n",
    "\n",
    "top5=listing['neighbourhood'].value_counts().head(5).index\n",
    "\n",
    "# need to use unstack() to change neighbourhood and room_type to row/column dimension\n",
    "\n",
    "result=listing[listing['neighbourhood'].isin(top5)].groupby(['neighbourhood', 'room_type'])['id'].\\\n",
    "count().unstack()\n",
    "\n",
    "#save the chart\n"
   ]
  },
  {
   "cell_type": "markdown",
   "id": "19aa87a1",
   "metadata": {},
   "source": [
    "## Seabron: Visualize categorical data"
   ]
  },
  {
   "cell_type": "markdown",
   "id": "865fc52f",
   "metadata": {},
   "source": [
    "## stripplot"
   ]
  },
  {
   "cell_type": "code",
   "execution_count": null,
   "id": "b152a399",
   "metadata": {
    "scrolled": false
   },
   "outputs": [],
   "source": [
    "# using stripplot to visualize price by top 5 neighbourhood and room type\n",
    "\n",
    "top5=listing['neighbourhood'].value_counts().head(5).index\n",
    "\n",
    "result=listing[listing['neighbourhood'].isin(top5)]\n",
    "\n"
   ]
  },
  {
   "cell_type": "markdown",
   "id": "4f3eb57a",
   "metadata": {},
   "source": [
    "## swarmplot"
   ]
  },
  {
   "cell_type": "code",
   "execution_count": null,
   "id": "241fa1c3",
   "metadata": {},
   "outputs": [],
   "source": [
    "# using swardplot to visualize price by top 5 neighbourhood and room type\n",
    "\n",
    "top5=listing['neighbourhood'].value_counts().head(5).index\n",
    "\n",
    "result=listing[listing['neighbourhood'].isin(top5)]\n",
    "\n"
   ]
  },
  {
   "cell_type": "markdown",
   "id": "ef5224b5",
   "metadata": {},
   "source": [
    "## boxplot"
   ]
  },
  {
   "cell_type": "code",
   "execution_count": null,
   "id": "87f0ae60",
   "metadata": {
    "scrolled": true
   },
   "outputs": [],
   "source": [
    "# show boxplot of price for each top 5 neighbourhood\n",
    "\n",
    "top5=listing['neighbourhood'].value_counts().head(5).index\n",
    "\n"
   ]
  },
  {
   "cell_type": "markdown",
   "id": "030df52c",
   "metadata": {},
   "source": [
    "## violinplot"
   ]
  },
  {
   "cell_type": "code",
   "execution_count": null,
   "id": "7bef7a9a",
   "metadata": {},
   "outputs": [],
   "source": [
    "# show violinplot of price for each top 5 neighbourhood\n",
    "\n",
    "top5=listing['neighbourhood'].value_counts().head(5).index\n",
    "\n",
    "fig, axes=plt.subplots(figsize=(10,5))\n",
    "\n"
   ]
  },
  {
   "cell_type": "markdown",
   "id": "7be57600",
   "metadata": {},
   "source": [
    "## Seaborn: Correlation and heatmap\n",
    "\n",
    "Which features have an impact on price?"
   ]
  },
  {
   "cell_type": "code",
   "execution_count": null,
   "id": "83b28e64",
   "metadata": {},
   "outputs": [],
   "source": [
    "df.columns"
   ]
  },
  {
   "cell_type": "code",
   "execution_count": null,
   "id": "1a20d269",
   "metadata": {
    "scrolled": true
   },
   "outputs": [],
   "source": [
    "# show a heatmap of selected features\n",
    "\n",
    "selected_columns=['bedrooms', 'beds',\n",
    "      'review_scores_rating',\n",
    "       'review_scores_accuracy', 'review_scores_cleanliness',\n",
    "       'review_scores_checkin', 'review_scores_communication',\n",
    "       'review_scores_location', 'review_scores_value', 'price']\n",
    "\n"
   ]
  },
  {
   "cell_type": "markdown",
   "id": "235b0a63",
   "metadata": {},
   "source": [
    "## Seaborn: pairplot"
   ]
  },
  {
   "cell_type": "code",
   "execution_count": null,
   "id": "b799bf88",
   "metadata": {},
   "outputs": [],
   "source": [
    "# createa pairplot of selected features\n",
    "\n",
    "selected_columns=['bedrooms', 'beds',\n",
    "      'review_scores_rating',\n",
    "       'review_scores_location', 'review_scores_value', 'price']\n",
    "\n",
    "result=listing[selected_columns]\n",
    "\n"
   ]
  },
  {
   "cell_type": "code",
   "execution_count": null,
   "id": "cf6c0aeb",
   "metadata": {},
   "outputs": [],
   "source": [
    "# # createa pairplot of selected features\n",
    "# change diagonal chart to kde\n",
    "\n",
    "selected_columns=['bedrooms', 'beds',\n",
    "      'review_scores_rating',\n",
    "       'review_scores_location', 'review_scores_value', 'price', 'room_type']\n",
    "\n",
    "result=listing[selected_columns]\n",
    "\n"
   ]
  },
  {
   "cell_type": "code",
   "execution_count": null,
   "id": "15fb97da",
   "metadata": {},
   "outputs": [],
   "source": [
    "# reduce neighbourhood to top 3\n",
    "top3=listing['neighbourhood'].value_counts().head(3).index\n",
    "\n",
    "selected_columns=['bedrooms', 'beds',\n",
    "      'review_scores_rating',\n",
    "      'price', 'neighbourhood']\n",
    "\n",
    "result=listing[selected_columns][listing['neighbourhood'].isin(top3)]\n",
    "\n"
   ]
  },
  {
   "cell_type": "markdown",
   "id": "1fc8927c",
   "metadata": {},
   "source": [
    "\n",
    "## Seaborn: jointplot \n",
    "\n",
    "Based on two numerical varabiles\n"
   ]
  },
  {
   "cell_type": "code",
   "execution_count": null,
   "id": "3b8dfbcd",
   "metadata": {},
   "outputs": [],
   "source": [
    "# Visualize the overall review score rating and price\n",
    "\n"
   ]
  },
  {
   "cell_type": "code",
   "execution_count": null,
   "id": "792b7f7b",
   "metadata": {},
   "outputs": [],
   "source": [
    "# visualize the overall review score rating and price\n",
    "# use hex\n",
    "\n"
   ]
  },
  {
   "cell_type": "code",
   "execution_count": null,
   "id": "0ae4b244",
   "metadata": {},
   "outputs": [],
   "source": [
    "# visualize the overall review score rating and price\n",
    "# use regression line\n",
    "\n"
   ]
  },
  {
   "cell_type": "code",
   "execution_count": null,
   "id": "669ea542",
   "metadata": {},
   "outputs": [],
   "source": [
    "# visualize the overall review score rating and price\n",
    "# use regression residual\n",
    "\n",
    "\n"
   ]
  },
  {
   "cell_type": "markdown",
   "id": "69d666df",
   "metadata": {},
   "source": [
    "## Seaborn - Using Faceting"
   ]
  },
  {
   "cell_type": "code",
   "execution_count": null,
   "id": "6c793600",
   "metadata": {},
   "outputs": [],
   "source": [
    "result.columns"
   ]
  },
  {
   "cell_type": "code",
   "execution_count": null,
   "id": "7094aa8b",
   "metadata": {},
   "outputs": [],
   "source": [
    "top3=listing['neighbourhood'].value_counts().head(3).index\n",
    "\n",
    "result=listing[listing['neighbourhood'].isin(top3)]\n",
    "\n",
    "\n",
    "g=sns.FacetGrid(result, row='neighbourhood', col='room_type', height=5)\n",
    "\n",
    "g=g.map(sns.histplot, 'price', kde=True)"
   ]
  },
  {
   "cell_type": "code",
   "execution_count": null,
   "id": "e0ad06c0",
   "metadata": {},
   "outputs": [],
   "source": [
    "# modify the above chart to remove shared room\n",
    "top3=listing['neighbourhood'].value_counts().head(3).index\n",
    "\n",
    "result=listing[listing['neighbourhood'].isin(top3)][listing['room_type']!=\"Shared room\"]\n",
    "\n",
    "\n",
    "g=sns.FacetGrid(result, row='neighbourhood', col='room_type', height=5)\n",
    "\n",
    "g=g.map(sns.histplot, 'price', kde=True)"
   ]
  },
  {
   "cell_type": "code",
   "execution_count": null,
   "id": "753ac301",
   "metadata": {},
   "outputs": [],
   "source": [
    "# modify the above chart to look at the top 3 neighbourhood\n",
    "\n",
    "top3=listing['neighbourhood'].value_counts().head(3).index\n",
    "\n",
    "result=listing[listing['neighbourhood'].isin(top3)][listing['room_type']!=\"Shared room\"]\n",
    "\n",
    "\n",
    "g=sns.FacetGrid(result, row='neighbourhood', col='room_type', height=5)\n",
    "\n",
    "g=g.map(plt.scatter, 'review_scores_rating', 'price')"
   ]
  },
  {
   "cell_type": "markdown",
   "id": "2d7bca84",
   "metadata": {},
   "source": [
    "## Using sequential color\n",
    "\n",
    "[Choosing Color Palettes in Seaborn](https://seaborn.pydata.org/tutorial/color_palettes.html)"
   ]
  },
  {
   "cell_type": "code",
   "execution_count": null,
   "id": "9c194ba6",
   "metadata": {},
   "outputs": [],
   "source": [
    "# top 10 neighbourhood by number of listings\n",
    "\n",
    "result=listing.groupby('neighbourhood')['id'].count().nlargest(10).reset_index().rename(columns={\"id\":\"numListings\"})\n",
    "result"
   ]
  },
  {
   "cell_type": "code",
   "execution_count": null,
   "id": "1f435bba",
   "metadata": {},
   "outputs": [],
   "source": [
    "# Set the figure size\n",
    "plt.figure(figsize=(15, 7))\n",
    "\n",
    "# use a sequential color with 15 variations\n",
    "palette=sns.color_palette(\"flare\", 10)\n",
    "\n",
    "# plot a bar chart\n",
    "sns.barplot(\n",
    "    x=\"numListings\", \n",
    "    y=\"neighbourhood\", \n",
    "    data=result, \n",
    "    palette=palette)"
   ]
  },
  {
   "cell_type": "code",
   "execution_count": null,
   "id": "cc204919",
   "metadata": {},
   "outputs": [],
   "source": [
    "# Choose a different palette\n",
    "\n",
    "# Set the figure size\n",
    "plt.figure(figsize=(15, 7))\n",
    "\n",
    "# use a sequential color with 10 variations ('rocket', 'mako', 'flare', 'crest')\n",
    "palette=sns.color_palette(\"mako\", 10)\n",
    "\n",
    "# plot a bar chart\n",
    "sns.barplot(\n",
    "    x=\"numListings\", \n",
    "    y=\"neighbourhood\", \n",
    "    data=result, \n",
    "    palette=palette)"
   ]
  }
 ],
 "metadata": {
  "kernelspec": {
   "display_name": "Python 3 (ipykernel)",
   "language": "python",
   "name": "python3"
  },
  "language_info": {
   "codemirror_mode": {
    "name": "ipython",
    "version": 3
   },
   "file_extension": ".py",
   "mimetype": "text/x-python",
   "name": "python",
   "nbconvert_exporter": "python",
   "pygments_lexer": "ipython3",
   "version": "3.8.3"
  }
 },
 "nbformat": 4,
 "nbformat_minor": 5
}
